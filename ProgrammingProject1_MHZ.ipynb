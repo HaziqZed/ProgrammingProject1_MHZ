{
 "cells": [
  {
   "cell_type": "markdown",
   "metadata": {},
   "source": [
    "# ProgrammingProject1_MHZ\n",
    "---\n",
    "**Author:** Haziq Zed  \n",
    "**Version:** 1.0  \n",
    "**Semester:** Fall 2020  \n",
    "\n",
    "This *notebook* contains my solution to **ProgrammingProject1_MHZ**\n",
    "\n",
    "$$P_{t} = P_{0} \\,*\\, e^{rt} $$"
   ]
  },
  {
   "cell_type": "code",
   "execution_count": 1,
   "metadata": {},
   "outputs": [
    {
     "name": "stdout",
     "output_type": "stream",
     "text": [
      "+====================================+\n",
      "|         Population Growth          |\n",
      "+====================================+\n",
      "| We started with 89,000,000 people. |\n",
      "+====================================+\n",
      "+------+--------------+-----------------------------------------+\n",
      "| Year | Population   | Approximate Increase from Previous Year |\n",
      "+------+--------------+-----------------------------------------+\n",
      "|    1 | 90888762.60  | 1888762.60                              |\n",
      "|    2 | 92817608.61  | 1928846.01                              |\n",
      "|    3 | 94787388.69  | 1969780.08                              |\n",
      "|    4 | 96798971.55  | 2011582.86                              |\n",
      "|    5 | 98853244.32  | 2054272.77                              |\n",
      "|    6 | 100951112.98 | 2097868.66                              |\n",
      "|    7 | 103093502.71 | 2142389.73                              |\n",
      "|    8 | 105281358.35 | 2187855.64                              |\n",
      "|    9 | 107515644.77 | 2234286.42                              |\n",
      "|   10 | 109797347.34 | 2281702.57                              |\n",
      "|   11 | 112127472.31 | 2330124.97                              |\n",
      "|   12 | 114507047.32 | 2379575.01                              |\n",
      "|   13 | 116937121.79 | 2430074.47                              |\n",
      "|   14 | 119418767.43 | 2481645.64                              |\n",
      "|   15 | 121953078.68 | 2534311.25                              |\n",
      "|   16 | 124541173.21 | 2588094.53                              |\n",
      "|   17 | 127184192.42 | 2643019.21                              |\n",
      "|   18 | 129883301.92 | 2699109.50                              |\n",
      "|   19 | 132639692.06 | 2756390.14                              |\n",
      "|   20 | 135454578.45 | 2814886.39                              |\n",
      "|   21 | 138329202.51 | 2874624.06                              |\n",
      "|   22 | 141264831.99 | 2935629.48                              |\n",
      "|   23 | 144262761.55 | 2997929.56                              |\n",
      "|   24 | 147324313.32 | 3061551.77                              |\n",
      "|   25 | 150450837.51 | 3126524.18                              |\n",
      "|   26 | 153643712.95 | 3192875.44                              |\n",
      "|   27 | 156904347.76 | 3260634.81                              |\n",
      "|   28 | 160234179.93 | 3329832.17                              |\n",
      "|   29 | 163634677.97 | 3400498.04                              |\n",
      "|   30 | 167107341.55 | 3472663.59                              |\n",
      "|   31 | 170653702.19 | 3546360.63                              |\n",
      "|   32 | 174275323.87 | 3621621.68                              |\n",
      "|   33 | 177973803.79 | 3698479.92                              |\n",
      "|   34 | 181750773.04 | 3776969.25  *population doubled         |\n",
      "|   35 | 185607897.33 | 3857124.29                              |\n",
      "+------+--------------+-----------------------------------------+\n"
     ]
    }
   ],
   "source": [
    "from prettytable import PrettyTable\n",
    "from math import exp\n",
    "\n",
    "y = PrettyTable()\n",
    "y.field_names = ([\"Population Growth\"])\n",
    "y.horizontal_char = \"=\"\n",
    "y.add_row([\"We started with 89,000,000 people.\"])\n",
    "\n",
    "x = PrettyTable()\n",
    "x.field_names = ([\"Year\", \"Population\", \"Approximate Increase from Previous Year\"])\n",
    "\n",
    "Pop_Year_0 = 89000000\n",
    "rate = 0.021\n",
    "double_check = False \n",
    "\n",
    "def Pop_Growth(Initial_Pop, Time):\n",
    "    Temp = rate * Time\n",
    "    Pop = Pop_Year_0 * exp(Temp)\n",
    "    return Pop\n",
    "\n",
    "for i in range(35):\n",
    "    initial = Pop_Growth(Pop_Year_0,i)\n",
    "    next_year = Pop_Growth(Pop_Year_0,i+1)\n",
    "    Difference = next_year - initial\n",
    "    \n",
    "    if next_year >= (Pop_Year_0 * 2) and double_check is False:\n",
    "        x.add_row([i+1, (f'{next_year:.2f}') , f'{Difference:.2f}  *population doubled'])\n",
    "        double_check = True\n",
    "    else:\n",
    "        x.add_row([i+1, (f'{next_year:.2f}') , (f'{Difference:.2f}')])\n",
    "\n",
    "x.align = \"l\"        \n",
    "x.align[\"Year\"] = \"r\"\n",
    "\n",
    "print(y)\n",
    "print(x)"
   ]
  }
 ],
 "metadata": {
  "kernelspec": {
   "display_name": "Python 3",
   "language": "python",
   "name": "python3"
  },
  "language_info": {
   "codemirror_mode": {
    "name": "ipython",
    "version": 3
   },
   "file_extension": ".py",
   "mimetype": "text/x-python",
   "name": "python",
   "nbconvert_exporter": "python",
   "pygments_lexer": "ipython3",
   "version": "3.8.3"
  }
 },
 "nbformat": 4,
 "nbformat_minor": 4
}
